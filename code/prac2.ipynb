{
 "cells": [
  {
   "cell_type": "markdown",
   "metadata": {},
   "source": [
    "<div style=\"width: 100%; clear: both;\">\n",
    "    <div style=\"float: left; width: 50%;\">\n",
    "       <img src=\"http://www.uoc.edu/portal/_resources/common/imatges/marca_UOC/UOC_Masterbrand.jpg\", align=\"left\">\n",
    "    </div>\n",
    "</div>\n",
    "\n",
    "<div style=\"float: right; width: 50%;\">\n",
    "    <p style=\"margin: 0; padding-top: 22px; text-align:right;\">Tipología y ciclo de vida de los datos</p>\n",
    "    <p style=\"margin: 0; text-align:right;\">Máster en Ciencia de Datos</p>\n",
    "    <p style=\"margin: 0; text-align:right; padding-button: 100px;\">Estudios de Informática, Multimedia y Telecomunicación</p>\n",
    "    <p> Integrantes: \n",
    "    Jaime Gimeno Ferrer y \n",
    "    Reynel López Lantigua </p>\n",
    "    \n",
    "</div>\n",
    "\n",
    "</div>\n",
    "<div style=\"width: 100%; clear: both;\">\n",
    "<div style=\"width:100%;\">&nbsp;</div>"
   ]
  },
  {
   "cell_type": "markdown",
   "metadata": {},
   "source": [
    "\n",
    "<font size=\"6\">TIPOLOGÍA Y CICLO DE VIDA DE LOS DATOS</font> \n",
    "\n",
    "---\n",
    "\n",
    "<font size=\"4\">PRÁCTICA 2: Limpieza y análisis de datos</font>\n",
    "\n",
    "---"
   ]
  },
  {
   "cell_type": "code",
   "execution_count": 2,
   "metadata": {},
   "outputs": [],
   "source": [
    "# Importación de librerias a usar\n",
    "import pandas as pd\n",
    "import numpy as np\n",
    "from sklearn.model_selection import StratifiedKFold\n",
    "from sklearn.feature_selection import SelectKBest, f_classif, RFE, RFECV\n",
    "from sklearn.ensemble import RandomForestClassifier\n",
    "from sklearn.impute import KNNImputer\n",
    "import matplotlib.pyplot as plt\n",
    "%matplotlib inline"
   ]
  },
  {
   "cell_type": "markdown",
   "metadata": {
    "toc": true
   },
   "source": [
    "<h1>Table of Contents<span class=\"tocSkip\"></span></h1>\n",
    "<div class=\"toc\"><ul class=\"toc-item\"><li><span><a href=\"#Detalles-de-la-actividad\" data-toc-modified-id=\"Detalles-de-la-actividad-1\"><span class=\"toc-item-num\">1&nbsp;&nbsp;</span>Detalles de la actividad</a></span><ul class=\"toc-item\"><li><span><a href=\"#Descripción\" data-toc-modified-id=\"Descripción-1.1\"><span class=\"toc-item-num\">1.1&nbsp;&nbsp;</span>Descripción</a></span></li><li><span><a href=\"#Objetivos\" data-toc-modified-id=\"Objetivos-1.2\"><span class=\"toc-item-num\">1.2&nbsp;&nbsp;</span>Objetivos</a></span></li><li><span><a href=\"#Competencias\" data-toc-modified-id=\"Competencias-1.3\"><span class=\"toc-item-num\">1.3&nbsp;&nbsp;</span>Competencias</a></span></li></ul></li><li><span><a href=\"#Descripción-del-dataset\" data-toc-modified-id=\"Descripción-del-dataset-2\"><span class=\"toc-item-num\">2&nbsp;&nbsp;</span>Descripción del dataset</a></span></li><li><span><a href=\"#Importancia-y-objetivos-del-dataset\" data-toc-modified-id=\"Importancia-y-objetivos-del-dataset-3\"><span class=\"toc-item-num\">3&nbsp;&nbsp;</span>Importancia y objetivos del dataset</a></span><ul class=\"toc-item\"><li><span><a href=\"#Integración-y-selección-de-los-datos-de-interés-a-analizar.\" data-toc-modified-id=\"Integración-y-selección-de-los-datos-de-interés-a-analizar.-3.1\"><span class=\"toc-item-num\">3.1&nbsp;&nbsp;</span>Integración y selección de los datos de interés a analizar.</a></span></li></ul></li><li><span><a href=\"#Limpieza-de-los-datos\" data-toc-modified-id=\"Limpieza-de-los-datos-4\"><span class=\"toc-item-num\">4&nbsp;&nbsp;</span>Limpieza de los datos</a></span><ul class=\"toc-item\"><li><span><a href=\"#Valores-nulos\" data-toc-modified-id=\"Valores-nulos-4.1\"><span class=\"toc-item-num\">4.1&nbsp;&nbsp;</span>Valores nulos</a></span></li><li><span><a href=\"#Valores-extremos\" data-toc-modified-id=\"Valores-extremos-4.2\"><span class=\"toc-item-num\">4.2&nbsp;&nbsp;</span>Valores extremos</a></span></li><li><span><a href=\"#Dummies-y-guardado-del-dataset\" data-toc-modified-id=\"Dummies-y-guardado-del-dataset-4.3\"><span class=\"toc-item-num\">4.3&nbsp;&nbsp;</span>Dummies y guardado del dataset</a></span></li></ul></li><li><span><a href=\"#Análisis-de-los-datos\" data-toc-modified-id=\"Análisis-de-los-datos-5\"><span class=\"toc-item-num\">5&nbsp;&nbsp;</span>Análisis de los datos</a></span><ul class=\"toc-item\"><li><span><a href=\"#Selección-de-datos-a-analizar\" data-toc-modified-id=\"Selección-de-datos-a-analizar-5.1\"><span class=\"toc-item-num\">5.1&nbsp;&nbsp;</span>Selección de datos a analizar</a></span></li><li><span><a href=\"#Comprobación-de-la-normalidad-y-homogeneidad-de-la-varianza\" data-toc-modified-id=\"Comprobación-de-la-normalidad-y-homogeneidad-de-la-varianza-5.2\"><span class=\"toc-item-num\">5.2&nbsp;&nbsp;</span>Comprobación de la normalidad y homogeneidad de la varianza</a></span><ul class=\"toc-item\"><li><span><a href=\"#Normalidad\" data-toc-modified-id=\"Normalidad-5.2.1\"><span class=\"toc-item-num\">5.2.1&nbsp;&nbsp;</span>Normalidad</a></span></li><li><span><a href=\"#Homogeneidad-de-la-varianza\" data-toc-modified-id=\"Homogeneidad-de-la-varianza-5.2.2\"><span class=\"toc-item-num\">5.2.2&nbsp;&nbsp;</span>Homogeneidad de la varianza</a></span></li></ul></li></ul></li><li><span><a href=\"#Pruebas-estadísticas\" data-toc-modified-id=\"Pruebas-estadísticas-6\"><span class=\"toc-item-num\">6&nbsp;&nbsp;</span>Pruebas estadísticas</a></span></li><li><span><a href=\"#Conclusiones\" data-toc-modified-id=\"Conclusiones-7\"><span class=\"toc-item-num\">7&nbsp;&nbsp;</span>Conclusiones</a></span></li></ul></div>"
   ]
  },
  {
   "cell_type": "markdown",
   "metadata": {},
   "source": [
    "---\n",
    "# Detalles de la actividad\n",
    "\n",
    "## Descripción\n",
    "\n",
    "En esta práctica se elabora un caso práctico orientado a aprender a identificar los datos relevantes para un proyecto analítico y usar las herramientas de integración, limpieza, validación y análisis de las mismas.\n",
    "\n",
    "## Objetivos\n",
    "\n",
    "Los objetivos de esta práctica son:\n",
    "\n",
    "- Aprender a aplicar los conocimientos adquiridos y su capacidad de resolución de problemas en entornos nuevos o poco conocidos dentro de contextos más amplios o multidisciplinares.\n",
    "\n",
    "- Saber identificar los datos relevantes y los tratamientos necesarios (integración, limpieza y validación) para llevar a cabo un proyecto analítico.\n",
    "\n",
    "- Aprender a analizar los datos adecuadamente para abordar la información contenida en los datos.\n",
    "\n",
    "- Identificar la mejor representación de los resultados para aportar conclusiones sobre el problema planteado en el proceso analítico.\n",
    "\n",
    "- Actuar con los principios éticos y legales relacionados con la manipulación de datos en función del ámbito de aplicación.\n",
    "\n",
    "- Desarrollar las habilidades de aprendizaje que les permitan continuar estudiando de un modo que tendrá que ser en gran medida autodirigido o autónomo.\n",
    "\n",
    "- Desarrollar la capacidad de búsqueda, gestión y uso de información y recursos en el ámbito de la ciencia de datos.\n",
    "\n",
    "## Competencias\n",
    "\n",
    "En esta práctica se desarrollan las siguientes competencias del Máster de Data Science:\n",
    "\n",
    "- Capacidad de analizar un problema en el nivel de abstracción adecuado a cada situación y aplicar las habilidades y conocimientos adquiridos para abordarlo y resolverlo.\n",
    "\n",
    "- Capacidad para aplicar las técnicas específicas de tratamiento de datos (integración, transformación, limpieza y validación) para su posterior análisis."
   ]
  },
  {
   "cell_type": "markdown",
   "metadata": {},
   "source": [
    "---\n",
    "\n",
    "# Descripción del dataset\n",
    "\n",
    "Para esta práctica se ha escogido el dataset propuesto en el enunciado [`Titanic: Machine Learning from Disaster`](https://www.kaggle.com/c/titanic). Este dataset ya viene dividido en dos sets para aplicar modelos de Machine Learning, es posible que nos interese juntar ambos en uno para aplicar nuestro proceso de limpieza y análisis.\n",
    "\n",
    "Este dataset proporciona una serie de atributos acerca de los pasajeros del Titanic. Estos atributos se suelen utilizar para predecir un atributo especial que también se aporta e indica si un pasajero sobrevivió o no.\n",
    "\n",
    "A continuación vemos una lista de los atributos que se incluyen en el dataset.\n",
    "\n",
    "- survival: Identifica si un pasajero sobrevivió o no (valor 1 o 0 respectivamente).\n",
    "- pclass: Identifica la clase del ticket que compró el pasajero, hay primera clase (valor 1), segunda (2) y tercera (3).\n",
    "- sex: Sexo del pasajero\n",
    "- Age: Edad del pasajero\n",
    "- sibsp: Número de hermanos/cónyuges a bordo del Titanic\n",
    "- parch: Número de padres/hijos a bordo del Titanic\n",
    "- ticket: Número del ticket del pasajero\n",
    "- cabin: Número de cabina donde el pasajero se alojaba\n",
    "- fare: Tarifa pagada por el pasajero\n",
    "- embarked: Puerto donde embarcó el pasajero\n",
    "\n",
    "Además, en el repositorio del dataset se especifican los siguientes detalles de los datos.\n",
    "\n",
    "La variable **pclass** tiene relación con el estatus socio-económico.\n",
    "- Primera clase = Clase alta\n",
    "- Segunda clase = Clase media\n",
    "- Tercera clase = Clase baja\n",
    "\n",
    "El atributo **age** es una fracción si la edad es menor que 1. Si la edad es estimada, lo es con el formato xx.5.\n",
    "\n",
    "Para el atributo **sibsp** se consideran las relaciones: hermano, hermana, hermanastro, hermanastra, esposa y marido (novios y amantes no fueron considerados).\n",
    "\n",
    "En **parch** se consideran las relaciones: padre, madre, hijo, hija, hijastro, hijastra. Algún niño viajó sin niñera así que su parch = 0."
   ]
  },
  {
   "cell_type": "markdown",
   "metadata": {},
   "source": [
    "# Importancia y objetivos del dataset\n",
    "\n",
    "Con este dataset se pretende encontrar los atributos que influyen en mayor y menor medida a la posibilidad de supervivencia de los pasajeros del titanic. Con los resultados se pueden sacar conclusiones acerca de la diferencia entre clases, género y edad a la hora de dejar subir a un pasajero a las barcas salvavidas, por ejemplo. Así, se puede extraer un conexto ideológico de la socidad de la época (1912).\n",
    "\n",
    "Por otra parte, este dataset es históricamente usado para probar diferentes modelos de machine learning y ha servido como primeros pasos para todas las personas que se han introducido en este mundo."
   ]
  },
  {
   "cell_type": "markdown",
   "metadata": {},
   "source": [
    "## Integración y selección de los datos de interés a analizar.\n",
    "\n",
    "A continuación, cargaremos el dataset. Como hemos dicho antes, podríamos cargar *train* y *test* y unirlos, pero de momento trabajaremos solo con train."
   ]
  },
  {
   "cell_type": "code",
   "execution_count": 45,
   "metadata": {},
   "outputs": [
    {
     "data": {
      "text/html": [
       "<div>\n",
       "<style scoped>\n",
       "    .dataframe tbody tr th:only-of-type {\n",
       "        vertical-align: middle;\n",
       "    }\n",
       "\n",
       "    .dataframe tbody tr th {\n",
       "        vertical-align: top;\n",
       "    }\n",
       "\n",
       "    .dataframe thead th {\n",
       "        text-align: right;\n",
       "    }\n",
       "</style>\n",
       "<table border=\"1\" class=\"dataframe\">\n",
       "  <thead>\n",
       "    <tr style=\"text-align: right;\">\n",
       "      <th></th>\n",
       "      <th>PassengerId</th>\n",
       "      <th>Survived</th>\n",
       "      <th>Pclass</th>\n",
       "      <th>Name</th>\n",
       "      <th>Sex</th>\n",
       "      <th>Age</th>\n",
       "      <th>SibSp</th>\n",
       "      <th>Parch</th>\n",
       "      <th>Ticket</th>\n",
       "      <th>Fare</th>\n",
       "      <th>Cabin</th>\n",
       "      <th>Embarked</th>\n",
       "    </tr>\n",
       "  </thead>\n",
       "  <tbody>\n",
       "    <tr>\n",
       "      <th>0</th>\n",
       "      <td>1</td>\n",
       "      <td>0</td>\n",
       "      <td>3</td>\n",
       "      <td>Braund, Mr. Owen Harris</td>\n",
       "      <td>male</td>\n",
       "      <td>22.0</td>\n",
       "      <td>1</td>\n",
       "      <td>0</td>\n",
       "      <td>A/5 21171</td>\n",
       "      <td>7.2500</td>\n",
       "      <td>NaN</td>\n",
       "      <td>S</td>\n",
       "    </tr>\n",
       "    <tr>\n",
       "      <th>1</th>\n",
       "      <td>2</td>\n",
       "      <td>1</td>\n",
       "      <td>1</td>\n",
       "      <td>Cumings, Mrs. John Bradley (Florence Briggs Th...</td>\n",
       "      <td>female</td>\n",
       "      <td>38.0</td>\n",
       "      <td>1</td>\n",
       "      <td>0</td>\n",
       "      <td>PC 17599</td>\n",
       "      <td>71.2833</td>\n",
       "      <td>C85</td>\n",
       "      <td>C</td>\n",
       "    </tr>\n",
       "    <tr>\n",
       "      <th>2</th>\n",
       "      <td>3</td>\n",
       "      <td>1</td>\n",
       "      <td>3</td>\n",
       "      <td>Heikkinen, Miss. Laina</td>\n",
       "      <td>female</td>\n",
       "      <td>26.0</td>\n",
       "      <td>0</td>\n",
       "      <td>0</td>\n",
       "      <td>STON/O2. 3101282</td>\n",
       "      <td>7.9250</td>\n",
       "      <td>NaN</td>\n",
       "      <td>S</td>\n",
       "    </tr>\n",
       "    <tr>\n",
       "      <th>3</th>\n",
       "      <td>4</td>\n",
       "      <td>1</td>\n",
       "      <td>1</td>\n",
       "      <td>Futrelle, Mrs. Jacques Heath (Lily May Peel)</td>\n",
       "      <td>female</td>\n",
       "      <td>35.0</td>\n",
       "      <td>1</td>\n",
       "      <td>0</td>\n",
       "      <td>113803</td>\n",
       "      <td>53.1000</td>\n",
       "      <td>C123</td>\n",
       "      <td>S</td>\n",
       "    </tr>\n",
       "    <tr>\n",
       "      <th>4</th>\n",
       "      <td>5</td>\n",
       "      <td>0</td>\n",
       "      <td>3</td>\n",
       "      <td>Allen, Mr. William Henry</td>\n",
       "      <td>male</td>\n",
       "      <td>35.0</td>\n",
       "      <td>0</td>\n",
       "      <td>0</td>\n",
       "      <td>373450</td>\n",
       "      <td>8.0500</td>\n",
       "      <td>NaN</td>\n",
       "      <td>S</td>\n",
       "    </tr>\n",
       "  </tbody>\n",
       "</table>\n",
       "</div>"
      ],
      "text/plain": [
       "   PassengerId  Survived  Pclass  \\\n",
       "0            1         0       3   \n",
       "1            2         1       1   \n",
       "2            3         1       3   \n",
       "3            4         1       1   \n",
       "4            5         0       3   \n",
       "\n",
       "                                                Name     Sex   Age  SibSp  \\\n",
       "0                            Braund, Mr. Owen Harris    male  22.0      1   \n",
       "1  Cumings, Mrs. John Bradley (Florence Briggs Th...  female  38.0      1   \n",
       "2                             Heikkinen, Miss. Laina  female  26.0      0   \n",
       "3       Futrelle, Mrs. Jacques Heath (Lily May Peel)  female  35.0      1   \n",
       "4                           Allen, Mr. William Henry    male  35.0      0   \n",
       "\n",
       "   Parch            Ticket     Fare Cabin Embarked  \n",
       "0      0         A/5 21171   7.2500   NaN        S  \n",
       "1      0          PC 17599  71.2833   C85        C  \n",
       "2      0  STON/O2. 3101282   7.9250   NaN        S  \n",
       "3      0            113803  53.1000  C123        S  \n",
       "4      0            373450   8.0500   NaN        S  "
      ]
     },
     "execution_count": 45,
     "metadata": {},
     "output_type": "execute_result"
    }
   ],
   "source": [
    "df = pd.read_csv(\"../data/titanic_in.csv\")\n",
    "# Mostramos las 5 primeras filas\n",
    "df.head()"
   ]
  },
  {
   "cell_type": "markdown",
   "metadata": {},
   "source": [
    "Vemos como aparecen todos los atributos mencionados. Para nuestro análisis realmente no nos interesan los atributos *Cabin*, *Ticket* y *Name*, así que los descartamos del set (no aportan información nueva)."
   ]
  },
  {
   "cell_type": "code",
   "execution_count": 46,
   "metadata": {},
   "outputs": [
    {
     "data": {
      "text/html": [
       "<div>\n",
       "<style scoped>\n",
       "    .dataframe tbody tr th:only-of-type {\n",
       "        vertical-align: middle;\n",
       "    }\n",
       "\n",
       "    .dataframe tbody tr th {\n",
       "        vertical-align: top;\n",
       "    }\n",
       "\n",
       "    .dataframe thead th {\n",
       "        text-align: right;\n",
       "    }\n",
       "</style>\n",
       "<table border=\"1\" class=\"dataframe\">\n",
       "  <thead>\n",
       "    <tr style=\"text-align: right;\">\n",
       "      <th></th>\n",
       "      <th>PassengerId</th>\n",
       "      <th>Survived</th>\n",
       "      <th>Pclass</th>\n",
       "      <th>Sex</th>\n",
       "      <th>Age</th>\n",
       "      <th>SibSp</th>\n",
       "      <th>Parch</th>\n",
       "      <th>Fare</th>\n",
       "      <th>Embarked</th>\n",
       "    </tr>\n",
       "  </thead>\n",
       "  <tbody>\n",
       "    <tr>\n",
       "      <th>0</th>\n",
       "      <td>1</td>\n",
       "      <td>0</td>\n",
       "      <td>3</td>\n",
       "      <td>male</td>\n",
       "      <td>22.0</td>\n",
       "      <td>1</td>\n",
       "      <td>0</td>\n",
       "      <td>7.2500</td>\n",
       "      <td>S</td>\n",
       "    </tr>\n",
       "    <tr>\n",
       "      <th>1</th>\n",
       "      <td>2</td>\n",
       "      <td>1</td>\n",
       "      <td>1</td>\n",
       "      <td>female</td>\n",
       "      <td>38.0</td>\n",
       "      <td>1</td>\n",
       "      <td>0</td>\n",
       "      <td>71.2833</td>\n",
       "      <td>C</td>\n",
       "    </tr>\n",
       "    <tr>\n",
       "      <th>2</th>\n",
       "      <td>3</td>\n",
       "      <td>1</td>\n",
       "      <td>3</td>\n",
       "      <td>female</td>\n",
       "      <td>26.0</td>\n",
       "      <td>0</td>\n",
       "      <td>0</td>\n",
       "      <td>7.9250</td>\n",
       "      <td>S</td>\n",
       "    </tr>\n",
       "    <tr>\n",
       "      <th>3</th>\n",
       "      <td>4</td>\n",
       "      <td>1</td>\n",
       "      <td>1</td>\n",
       "      <td>female</td>\n",
       "      <td>35.0</td>\n",
       "      <td>1</td>\n",
       "      <td>0</td>\n",
       "      <td>53.1000</td>\n",
       "      <td>S</td>\n",
       "    </tr>\n",
       "    <tr>\n",
       "      <th>4</th>\n",
       "      <td>5</td>\n",
       "      <td>0</td>\n",
       "      <td>3</td>\n",
       "      <td>male</td>\n",
       "      <td>35.0</td>\n",
       "      <td>0</td>\n",
       "      <td>0</td>\n",
       "      <td>8.0500</td>\n",
       "      <td>S</td>\n",
       "    </tr>\n",
       "  </tbody>\n",
       "</table>\n",
       "</div>"
      ],
      "text/plain": [
       "   PassengerId  Survived  Pclass     Sex   Age  SibSp  Parch     Fare Embarked\n",
       "0            1         0       3    male  22.0      1      0   7.2500        S\n",
       "1            2         1       1  female  38.0      1      0  71.2833        C\n",
       "2            3         1       3  female  26.0      0      0   7.9250        S\n",
       "3            4         1       1  female  35.0      1      0  53.1000        S\n",
       "4            5         0       3    male  35.0      0      0   8.0500        S"
      ]
     },
     "execution_count": 46,
     "metadata": {},
     "output_type": "execute_result"
    }
   ],
   "source": [
    "df.drop([\"Cabin\", \"Ticket\", \"Name\"], axis=1, inplace=True)\n",
    "# Mostramos las 5 primeras filas\n",
    "df.head()"
   ]
  },
  {
   "cell_type": "markdown",
   "metadata": {},
   "source": [
    "Trabajaremos entonces con este dataset."
   ]
  },
  {
   "cell_type": "markdown",
   "metadata": {},
   "source": [
    "# Limpieza de los datos\n",
    "\n",
    "\n",
    "Ya importado el dataset podemos proceder a hacer un primer análisis de su contenido. A continuación, con el método *info* podemos ver el tipo de cada atributo y el número de filas no-nulas."
   ]
  },
  {
   "cell_type": "code",
   "execution_count": 47,
   "metadata": {},
   "outputs": [
    {
     "name": "stdout",
     "output_type": "stream",
     "text": [
      "<class 'pandas.core.frame.DataFrame'>\n",
      "RangeIndex: 891 entries, 0 to 890\n",
      "Data columns (total 9 columns):\n",
      " #   Column       Non-Null Count  Dtype  \n",
      "---  ------       --------------  -----  \n",
      " 0   PassengerId  891 non-null    int64  \n",
      " 1   Survived     891 non-null    int64  \n",
      " 2   Pclass       891 non-null    int64  \n",
      " 3   Sex          891 non-null    object \n",
      " 4   Age          714 non-null    float64\n",
      " 5   SibSp        891 non-null    int64  \n",
      " 6   Parch        891 non-null    int64  \n",
      " 7   Fare         891 non-null    float64\n",
      " 8   Embarked     889 non-null    object \n",
      "dtypes: float64(2), int64(5), object(2)\n",
      "memory usage: 62.8+ KB\n"
     ]
    }
   ],
   "source": [
    "df.info()"
   ]
  },
  {
   "cell_type": "markdown",
   "metadata": {},
   "source": [
    "Los atirbutos de tipo *objetc* son de tipo *object string*. "
   ]
  },
  {
   "cell_type": "markdown",
   "metadata": {},
   "source": [
    "## Valores nulos\n",
    "\n",
    "En la tabla anterior, podemos ver que para algunos atributos existen valores nulos ya que no hay e mismo número de valores no-nulos para todos los atributos. Vamos a comprobar de nuevo esto viendo cuantos valroes faltan para cada atributo."
   ]
  },
  {
   "cell_type": "code",
   "execution_count": 48,
   "metadata": {},
   "outputs": [
    {
     "data": {
      "text/plain": [
       "PassengerId      0\n",
       "Survived         0\n",
       "Pclass           0\n",
       "Sex              0\n",
       "Age            177\n",
       "SibSp            0\n",
       "Parch            0\n",
       "Fare             0\n",
       "Embarked         2\n",
       "dtype: int64"
      ]
     },
     "execution_count": 48,
     "metadata": {},
     "output_type": "execute_result"
    }
   ],
   "source": [
    "# Comprobar numero de nulos\n",
    "df.isnull().sum()"
   ]
  },
  {
   "cell_type": "markdown",
   "metadata": {},
   "source": [
    "Como vemos, aparecen dos valores nulos en *Embarked* y 177 en *Age*. Hemos decidido eliminar las filas donde *Embarked* es null (nos lo podemos permitir al ser tan solo dos). En el caso de la variable *Age* se ha decidido utilizar un método de imputación que intenta predecir el valor ausente, es el caso del método _nearest neighbor imputation_ que como su nombre indica utiliza el algoritmo KNN para predecir dicho valor. Para realizar esta operación se utiliza la función KNNImputer() del paquete _sklearn.impute_."
   ]
  },
  {
   "cell_type": "code",
   "execution_count": 49,
   "metadata": {},
   "outputs": [
    {
     "data": {
      "text/plain": [
       "PassengerId    0\n",
       "Survived       0\n",
       "Pclass         0\n",
       "Sex            0\n",
       "Age            0\n",
       "SibSp          0\n",
       "Parch          0\n",
       "Fare           0\n",
       "Embarked       0\n",
       "dtype: int64"
      ]
     },
     "execution_count": 49,
     "metadata": {},
     "output_type": "execute_result"
    }
   ],
   "source": [
    "# Sustuimos edades con los k vecinos más cercanos\n",
    "imputer = KNNImputer(n_neighbors=2)\n",
    "df.Age = imputer.fit_transform(df[['Age']])\n",
    "\n",
    "# Eliminamos filas con 'Embarked' nulo\n",
    "df.dropna(axis=0, inplace=True)\n",
    "\n",
    "# Comprobar numero de nulos\n",
    "df.isnull().sum()"
   ]
  },
  {
   "cell_type": "markdown",
   "metadata": {},
   "source": [
    "Como vemos, ya no tenemos numeros en el dataset."
   ]
  },
  {
   "cell_type": "markdown",
   "metadata": {},
   "source": [
    "## Valores extremos\n",
    "\n",
    "Otro estudio típico del \"data cleansing\" es el estudio de los *outliers* o valores extremos. Para buscar *outliers* en nuestro dataset podemos usar el método *boxplot* excluyendo de la representación el atributo *PassengerId* y la variable objetivo *Survived*."
   ]
  },
  {
   "cell_type": "code",
   "execution_count": 65,
   "metadata": {},
   "outputs": [
    {
     "data": {
      "text/plain": [
       "<matplotlib.axes._subplots.AxesSubplot at 0x18c1ffc7f70>"
      ]
     },
     "execution_count": 65,
     "metadata": {},
     "output_type": "execute_result"
    },
    {
     "data": {
      "image/png": "[encoded data removed]",
      "text/plain": [
       "<Figure size 432x288 with 1 Axes>"
      ]
     },
     "metadata": {
      "needs_background": "light"
     },
     "output_type": "display_data"
    }
   ],
   "source": [
    "# Gráfico de cajas de los aributos \n",
    "df.iloc[:, 2:].boxplot()"
   ]
  },
  {
   "cell_type": "markdown",
   "metadata": {},
   "source": [
    "Vemos que aparecen *outliers* en las columnas *Age*, *SibSp*, *Parch* y *Fare*. Podemos ignorar los *outliers* de *SibSp*, *Parch* y *Age* (se decide no eliminarlos porque son valores reales y no se quiere prescindir de ellos en el modelo) pero deberíamos de tratar los de *Fare*. Para ello, basándonos en una [`propuesta de kaggle`](https://www.kaggle.com/vijaysimhareddyp/titanic-dataset-cleaning-and-prediction#Importing-all-the-Libraries), caparemos los *outliers* con un valor máximo para cada atributo.\n",
    "\n",
    "Este valor máximo lo definimos de la siguiente manera, usando el rango intercuántico (IQR).\n",
    "\n",
    "$$IQR = Q_3 - Q_1$$\n",
    "$$Límite\\_Superior = Q_{3} + 1.5·IQR$$\n",
    "\n",
    "Siendo $Q_3$ el tercer cuartil (cuantil 0.75) y $Q_1$ el primer cuartil (cuantil 0.25).\n",
    "\n",
    "De este modo los valores que sobrepasen este límite le asignaremos un valor constante. Solo creamos un límmite superior porque no consideramos que haya *outliers* inferiormente."
   ]
  },
  {
   "cell_type": "code",
   "execution_count": 51,
   "metadata": {},
   "outputs": [
    {
     "name": "stdout",
     "output_type": "stream",
     "text": [
      "IQR de Fare: 23.1042\n"
     ]
    }
   ],
   "source": [
    "# Calculamos el IQR para Fare\n",
    "IQR_Fare = df.Fare.quantile(0.75) - df.Fare.quantile(0.25)\n",
    "print(\"IQR de Fare: {}\".format(IQR_Fare))\n"
   ]
  },
  {
   "cell_type": "code",
   "execution_count": 52,
   "metadata": {},
   "outputs": [
    {
     "name": "stdout",
     "output_type": "stream",
     "text": [
      "Límite para Fare: 65.6563\n"
     ]
    }
   ],
   "source": [
    "# Calculamos los límites superiores\n",
    "Lim_Fare = df.Fare.quantile(0.75) + 1.5*IQR_Fare\n",
    "print(\"Límite para Fare: {}\".format(Lim_Fare))\n"
   ]
  },
  {
   "cell_type": "markdown",
   "metadata": {},
   "source": [
    "Podemos ver las filas donde se encuentran estos outliers."
   ]
  },
  {
   "cell_type": "code",
   "execution_count": 53,
   "metadata": {},
   "outputs": [
    {
     "data": {
      "text/html": [
       "<div>\n",
       "<style scoped>\n",
       "    .dataframe tbody tr th:only-of-type {\n",
       "        vertical-align: middle;\n",
       "    }\n",
       "\n",
       "    .dataframe tbody tr th {\n",
       "        vertical-align: top;\n",
       "    }\n",
       "\n",
       "    .dataframe thead th {\n",
       "        text-align: right;\n",
       "    }\n",
       "</style>\n",
       "<table border=\"1\" class=\"dataframe\">\n",
       "  <thead>\n",
       "    <tr style=\"text-align: right;\">\n",
       "      <th></th>\n",
       "      <th>PassengerId</th>\n",
       "      <th>Survived</th>\n",
       "      <th>Pclass</th>\n",
       "      <th>Sex</th>\n",
       "      <th>Age</th>\n",
       "      <th>SibSp</th>\n",
       "      <th>Parch</th>\n",
       "      <th>Fare</th>\n",
       "      <th>Embarked</th>\n",
       "    </tr>\n",
       "  </thead>\n",
       "  <tbody>\n",
       "    <tr>\n",
       "      <th>1</th>\n",
       "      <td>2</td>\n",
       "      <td>1</td>\n",
       "      <td>1</td>\n",
       "      <td>female</td>\n",
       "      <td>38.000000</td>\n",
       "      <td>1</td>\n",
       "      <td>0</td>\n",
       "      <td>71.2833</td>\n",
       "      <td>C</td>\n",
       "    </tr>\n",
       "    <tr>\n",
       "      <th>27</th>\n",
       "      <td>28</td>\n",
       "      <td>0</td>\n",
       "      <td>1</td>\n",
       "      <td>male</td>\n",
       "      <td>19.000000</td>\n",
       "      <td>3</td>\n",
       "      <td>2</td>\n",
       "      <td>263.0000</td>\n",
       "      <td>S</td>\n",
       "    </tr>\n",
       "    <tr>\n",
       "      <th>31</th>\n",
       "      <td>32</td>\n",
       "      <td>1</td>\n",
       "      <td>1</td>\n",
       "      <td>female</td>\n",
       "      <td>29.699118</td>\n",
       "      <td>1</td>\n",
       "      <td>0</td>\n",
       "      <td>146.5208</td>\n",
       "      <td>C</td>\n",
       "    </tr>\n",
       "    <tr>\n",
       "      <th>34</th>\n",
       "      <td>35</td>\n",
       "      <td>0</td>\n",
       "      <td>1</td>\n",
       "      <td>male</td>\n",
       "      <td>28.000000</td>\n",
       "      <td>1</td>\n",
       "      <td>0</td>\n",
       "      <td>82.1708</td>\n",
       "      <td>C</td>\n",
       "    </tr>\n",
       "    <tr>\n",
       "      <th>52</th>\n",
       "      <td>53</td>\n",
       "      <td>1</td>\n",
       "      <td>1</td>\n",
       "      <td>female</td>\n",
       "      <td>49.000000</td>\n",
       "      <td>1</td>\n",
       "      <td>0</td>\n",
       "      <td>76.7292</td>\n",
       "      <td>C</td>\n",
       "    </tr>\n",
       "  </tbody>\n",
       "</table>\n",
       "</div>"
      ],
      "text/plain": [
       "    PassengerId  Survived  Pclass     Sex        Age  SibSp  Parch      Fare  \\\n",
       "1             2         1       1  female  38.000000      1      0   71.2833   \n",
       "27           28         0       1    male  19.000000      3      2  263.0000   \n",
       "31           32         1       1  female  29.699118      1      0  146.5208   \n",
       "34           35         0       1    male  28.000000      1      0   82.1708   \n",
       "52           53         1       1  female  49.000000      1      0   76.7292   \n",
       "\n",
       "   Embarked  \n",
       "1         C  \n",
       "27        S  \n",
       "31        C  \n",
       "34        C  \n",
       "52        C  "
      ]
     },
     "execution_count": 53,
     "metadata": {},
     "output_type": "execute_result"
    }
   ],
   "source": [
    "outliers = df[df.Fare > Lim_Fare]\n",
    "# Cabecera de los outliers\n",
    "outliers.head()"
   ]
  },
  {
   "cell_type": "code",
   "execution_count": 54,
   "metadata": {},
   "outputs": [
    {
     "data": {
      "text/html": [
       "<div>\n",
       "<style scoped>\n",
       "    .dataframe tbody tr th:only-of-type {\n",
       "        vertical-align: middle;\n",
       "    }\n",
       "\n",
       "    .dataframe tbody tr th {\n",
       "        vertical-align: top;\n",
       "    }\n",
       "\n",
       "    .dataframe thead th {\n",
       "        text-align: right;\n",
       "    }\n",
       "</style>\n",
       "<table border=\"1\" class=\"dataframe\">\n",
       "  <thead>\n",
       "    <tr style=\"text-align: right;\">\n",
       "      <th></th>\n",
       "      <th>PassengerId</th>\n",
       "      <th>Survived</th>\n",
       "      <th>Pclass</th>\n",
       "      <th>Sex</th>\n",
       "      <th>Age</th>\n",
       "      <th>SibSp</th>\n",
       "      <th>Parch</th>\n",
       "      <th>Fare</th>\n",
       "      <th>Embarked</th>\n",
       "    </tr>\n",
       "  </thead>\n",
       "  <tbody>\n",
       "    <tr>\n",
       "      <th>846</th>\n",
       "      <td>847</td>\n",
       "      <td>0</td>\n",
       "      <td>3</td>\n",
       "      <td>male</td>\n",
       "      <td>29.699118</td>\n",
       "      <td>8</td>\n",
       "      <td>2</td>\n",
       "      <td>69.5500</td>\n",
       "      <td>S</td>\n",
       "    </tr>\n",
       "    <tr>\n",
       "      <th>849</th>\n",
       "      <td>850</td>\n",
       "      <td>1</td>\n",
       "      <td>1</td>\n",
       "      <td>female</td>\n",
       "      <td>29.699118</td>\n",
       "      <td>1</td>\n",
       "      <td>0</td>\n",
       "      <td>89.1042</td>\n",
       "      <td>C</td>\n",
       "    </tr>\n",
       "    <tr>\n",
       "      <th>856</th>\n",
       "      <td>857</td>\n",
       "      <td>1</td>\n",
       "      <td>1</td>\n",
       "      <td>female</td>\n",
       "      <td>45.000000</td>\n",
       "      <td>1</td>\n",
       "      <td>1</td>\n",
       "      <td>164.8667</td>\n",
       "      <td>S</td>\n",
       "    </tr>\n",
       "    <tr>\n",
       "      <th>863</th>\n",
       "      <td>864</td>\n",
       "      <td>0</td>\n",
       "      <td>3</td>\n",
       "      <td>female</td>\n",
       "      <td>29.699118</td>\n",
       "      <td>8</td>\n",
       "      <td>2</td>\n",
       "      <td>69.5500</td>\n",
       "      <td>S</td>\n",
       "    </tr>\n",
       "    <tr>\n",
       "      <th>879</th>\n",
       "      <td>880</td>\n",
       "      <td>1</td>\n",
       "      <td>1</td>\n",
       "      <td>female</td>\n",
       "      <td>56.000000</td>\n",
       "      <td>0</td>\n",
       "      <td>1</td>\n",
       "      <td>83.1583</td>\n",
       "      <td>C</td>\n",
       "    </tr>\n",
       "  </tbody>\n",
       "</table>\n",
       "</div>"
      ],
      "text/plain": [
       "     PassengerId  Survived  Pclass     Sex        Age  SibSp  Parch      Fare  \\\n",
       "846          847         0       3    male  29.699118      8      2   69.5500   \n",
       "849          850         1       1  female  29.699118      1      0   89.1042   \n",
       "856          857         1       1  female  45.000000      1      1  164.8667   \n",
       "863          864         0       3  female  29.699118      8      2   69.5500   \n",
       "879          880         1       1  female  56.000000      0      1   83.1583   \n",
       "\n",
       "    Embarked  \n",
       "846        S  \n",
       "849        C  \n",
       "856        S  \n",
       "863        S  \n",
       "879        C  "
      ]
     },
     "execution_count": 54,
     "metadata": {},
     "output_type": "execute_result"
    }
   ],
   "source": [
    "# Cola de los outliers\n",
    "outliers.tail()"
   ]
  },
  {
   "cell_type": "code",
   "execution_count": 55,
   "metadata": {},
   "outputs": [
    {
     "name": "stdout",
     "output_type": "stream",
     "text": [
      "En total tenemos 114 outliers\n"
     ]
    }
   ],
   "source": [
    "print(\"En total tenemos {} outliers\".format(outliers.shape[0]))"
   ]
  },
  {
   "cell_type": "markdown",
   "metadata": {},
   "source": [
    "Una vez calculados los límites podemos proceder a \"capar\" los valores que sobrepasen estos limites para las dos columnas."
   ]
  },
  {
   "cell_type": "code",
   "execution_count": 56,
   "metadata": {},
   "outputs": [],
   "source": [
    "# Capamos con el cuantil 0.85 para Fare\n",
    "df.Fare = np.where(df.Fare > Lim_Fare, df.Fare.quantile(0.85), df.Fare)\n"
   ]
  },
  {
   "cell_type": "markdown",
   "metadata": {},
   "source": [
    "En una de las tablas superiores vemos que había un *outlier* de Fare para el passenger con *Passengerid* = 2. Si vemos qué valor tiene ahora, veremos que el valor a cambiado. En concreto el valor que vemos es el cuantil 0.85 de Fare (56.4958).\n",
    "\n",
    "A continuación mostramos las primera filas donde podemos ver el nuevo valor de Fare para este pasajero con *Passengerid* = 2."
   ]
  },
  {
   "cell_type": "code",
   "execution_count": 57,
   "metadata": {},
   "outputs": [
    {
     "data": {
      "text/html": [
       "<div>\n",
       "<style scoped>\n",
       "    .dataframe tbody tr th:only-of-type {\n",
       "        vertical-align: middle;\n",
       "    }\n",
       "\n",
       "    .dataframe tbody tr th {\n",
       "        vertical-align: top;\n",
       "    }\n",
       "\n",
       "    .dataframe thead th {\n",
       "        text-align: right;\n",
       "    }\n",
       "</style>\n",
       "<table border=\"1\" class=\"dataframe\">\n",
       "  <thead>\n",
       "    <tr style=\"text-align: right;\">\n",
       "      <th></th>\n",
       "      <th>PassengerId</th>\n",
       "      <th>Survived</th>\n",
       "      <th>Pclass</th>\n",
       "      <th>Sex</th>\n",
       "      <th>Age</th>\n",
       "      <th>SibSp</th>\n",
       "      <th>Parch</th>\n",
       "      <th>Fare</th>\n",
       "      <th>Embarked</th>\n",
       "    </tr>\n",
       "  </thead>\n",
       "  <tbody>\n",
       "    <tr>\n",
       "      <th>0</th>\n",
       "      <td>1</td>\n",
       "      <td>0</td>\n",
       "      <td>3</td>\n",
       "      <td>male</td>\n",
       "      <td>22.0</td>\n",
       "      <td>1</td>\n",
       "      <td>0</td>\n",
       "      <td>7.25000</td>\n",
       "      <td>S</td>\n",
       "    </tr>\n",
       "    <tr>\n",
       "      <th>1</th>\n",
       "      <td>2</td>\n",
       "      <td>1</td>\n",
       "      <td>1</td>\n",
       "      <td>female</td>\n",
       "      <td>38.0</td>\n",
       "      <td>1</td>\n",
       "      <td>0</td>\n",
       "      <td>56.37664</td>\n",
       "      <td>C</td>\n",
       "    </tr>\n",
       "    <tr>\n",
       "      <th>2</th>\n",
       "      <td>3</td>\n",
       "      <td>1</td>\n",
       "      <td>3</td>\n",
       "      <td>female</td>\n",
       "      <td>26.0</td>\n",
       "      <td>0</td>\n",
       "      <td>0</td>\n",
       "      <td>7.92500</td>\n",
       "      <td>S</td>\n",
       "    </tr>\n",
       "    <tr>\n",
       "      <th>3</th>\n",
       "      <td>4</td>\n",
       "      <td>1</td>\n",
       "      <td>1</td>\n",
       "      <td>female</td>\n",
       "      <td>35.0</td>\n",
       "      <td>1</td>\n",
       "      <td>0</td>\n",
       "      <td>53.10000</td>\n",
       "      <td>S</td>\n",
       "    </tr>\n",
       "    <tr>\n",
       "      <th>4</th>\n",
       "      <td>5</td>\n",
       "      <td>0</td>\n",
       "      <td>3</td>\n",
       "      <td>male</td>\n",
       "      <td>35.0</td>\n",
       "      <td>0</td>\n",
       "      <td>0</td>\n",
       "      <td>8.05000</td>\n",
       "      <td>S</td>\n",
       "    </tr>\n",
       "  </tbody>\n",
       "</table>\n",
       "</div>"
      ],
      "text/plain": [
       "   PassengerId  Survived  Pclass     Sex   Age  SibSp  Parch      Fare  \\\n",
       "0            1         0       3    male  22.0      1      0   7.25000   \n",
       "1            2         1       1  female  38.0      1      0  56.37664   \n",
       "2            3         1       3  female  26.0      0      0   7.92500   \n",
       "3            4         1       1  female  35.0      1      0  53.10000   \n",
       "4            5         0       3    male  35.0      0      0   8.05000   \n",
       "\n",
       "  Embarked  \n",
       "0        S  \n",
       "1        C  \n",
       "2        S  \n",
       "3        S  \n",
       "4        S  "
      ]
     },
     "execution_count": 57,
     "metadata": {},
     "output_type": "execute_result"
    }
   ],
   "source": [
    "df.head()"
   ]
  },
  {
   "cell_type": "markdown",
   "metadata": {},
   "source": [
    "Si hacemos de nuevo el *boxplot* veremos como han desaparecido todos los outliers de *Fare* y los más extremos de *Age*."
   ]
  },
  {
   "cell_type": "code",
   "execution_count": 66,
   "metadata": {},
   "outputs": [
    {
     "data": {
      "text/plain": [
       "<matplotlib.axes._subplots.AxesSubplot at 0x18c2007ad60>"
      ]
     },
     "execution_count": 66,
     "metadata": {},
     "output_type": "execute_result"
    },
    {
     "data": {
      "image/png": "[encoded data removed]",
      "text/plain": [
       "<Figure size 432x288 with 1 Axes>"
      ]
     },
     "metadata": {
      "needs_background": "light"
     },
     "output_type": "display_data"
    }
   ],
   "source": [
    "df.iloc[:, 2:].boxplot()"
   ]
  },
  {
   "cell_type": "markdown",
   "metadata": {},
   "source": [
    "## Dummies y guardado del dataset"
   ]
  },
  {
   "cell_type": "markdown",
   "metadata": {},
   "source": [
    "Tenemos dos atributos que son de tipo *string*, muchos algoritmos de análisis precisan que los datos de entrada sean números.\n",
    "\n",
    "Para las variables categóricas generaremos indicadores dummy que tendrán un 1 o 0 indicando si se trata de esa categoría o no. Esto podemos hacerlo con la función de *pandas* que se muestra a continuación (*get_dummies*)."
   ]
  },
  {
   "cell_type": "code",
   "execution_count": 23,
   "metadata": {},
   "outputs": [
    {
     "data": {
      "text/html": [
       "<div>\n",
       "<style scoped>\n",
       "    .dataframe tbody tr th:only-of-type {\n",
       "        vertical-align: middle;\n",
       "    }\n",
       "\n",
       "    .dataframe tbody tr th {\n",
       "        vertical-align: top;\n",
       "    }\n",
       "\n",
       "    .dataframe thead th {\n",
       "        text-align: right;\n",
       "    }\n",
       "</style>\n",
       "<table border=\"1\" class=\"dataframe\">\n",
       "  <thead>\n",
       "    <tr style=\"text-align: right;\">\n",
       "      <th></th>\n",
       "      <th>PassengerId</th>\n",
       "      <th>Survived</th>\n",
       "      <th>Pclass</th>\n",
       "      <th>Age</th>\n",
       "      <th>SibSp</th>\n",
       "      <th>Parch</th>\n",
       "      <th>Fare</th>\n",
       "      <th>Sex_female</th>\n",
       "      <th>Sex_male</th>\n",
       "      <th>Embarked_C</th>\n",
       "      <th>Embarked_Q</th>\n",
       "      <th>Embarked_S</th>\n",
       "    </tr>\n",
       "  </thead>\n",
       "  <tbody>\n",
       "    <tr>\n",
       "      <th>0</th>\n",
       "      <td>1</td>\n",
       "      <td>0</td>\n",
       "      <td>3</td>\n",
       "      <td>22.000000</td>\n",
       "      <td>1</td>\n",
       "      <td>0</td>\n",
       "      <td>7.25000</td>\n",
       "      <td>0</td>\n",
       "      <td>1</td>\n",
       "      <td>0</td>\n",
       "      <td>0</td>\n",
       "      <td>1</td>\n",
       "    </tr>\n",
       "    <tr>\n",
       "      <th>1</th>\n",
       "      <td>2</td>\n",
       "      <td>1</td>\n",
       "      <td>1</td>\n",
       "      <td>38.000000</td>\n",
       "      <td>1</td>\n",
       "      <td>0</td>\n",
       "      <td>56.37664</td>\n",
       "      <td>1</td>\n",
       "      <td>0</td>\n",
       "      <td>1</td>\n",
       "      <td>0</td>\n",
       "      <td>0</td>\n",
       "    </tr>\n",
       "    <tr>\n",
       "      <th>2</th>\n",
       "      <td>3</td>\n",
       "      <td>1</td>\n",
       "      <td>3</td>\n",
       "      <td>26.000000</td>\n",
       "      <td>0</td>\n",
       "      <td>0</td>\n",
       "      <td>7.92500</td>\n",
       "      <td>1</td>\n",
       "      <td>0</td>\n",
       "      <td>0</td>\n",
       "      <td>0</td>\n",
       "      <td>1</td>\n",
       "    </tr>\n",
       "    <tr>\n",
       "      <th>3</th>\n",
       "      <td>4</td>\n",
       "      <td>1</td>\n",
       "      <td>1</td>\n",
       "      <td>35.000000</td>\n",
       "      <td>1</td>\n",
       "      <td>0</td>\n",
       "      <td>53.10000</td>\n",
       "      <td>1</td>\n",
       "      <td>0</td>\n",
       "      <td>0</td>\n",
       "      <td>0</td>\n",
       "      <td>1</td>\n",
       "    </tr>\n",
       "    <tr>\n",
       "      <th>4</th>\n",
       "      <td>5</td>\n",
       "      <td>0</td>\n",
       "      <td>3</td>\n",
       "      <td>35.000000</td>\n",
       "      <td>0</td>\n",
       "      <td>0</td>\n",
       "      <td>8.05000</td>\n",
       "      <td>0</td>\n",
       "      <td>1</td>\n",
       "      <td>0</td>\n",
       "      <td>0</td>\n",
       "      <td>1</td>\n",
       "    </tr>\n",
       "    <tr>\n",
       "      <th>...</th>\n",
       "      <td>...</td>\n",
       "      <td>...</td>\n",
       "      <td>...</td>\n",
       "      <td>...</td>\n",
       "      <td>...</td>\n",
       "      <td>...</td>\n",
       "      <td>...</td>\n",
       "      <td>...</td>\n",
       "      <td>...</td>\n",
       "      <td>...</td>\n",
       "      <td>...</td>\n",
       "      <td>...</td>\n",
       "    </tr>\n",
       "    <tr>\n",
       "      <th>886</th>\n",
       "      <td>887</td>\n",
       "      <td>0</td>\n",
       "      <td>2</td>\n",
       "      <td>27.000000</td>\n",
       "      <td>0</td>\n",
       "      <td>0</td>\n",
       "      <td>13.00000</td>\n",
       "      <td>0</td>\n",
       "      <td>1</td>\n",
       "      <td>0</td>\n",
       "      <td>0</td>\n",
       "      <td>1</td>\n",
       "    </tr>\n",
       "    <tr>\n",
       "      <th>887</th>\n",
       "      <td>888</td>\n",
       "      <td>1</td>\n",
       "      <td>1</td>\n",
       "      <td>19.000000</td>\n",
       "      <td>0</td>\n",
       "      <td>0</td>\n",
       "      <td>30.00000</td>\n",
       "      <td>1</td>\n",
       "      <td>0</td>\n",
       "      <td>0</td>\n",
       "      <td>0</td>\n",
       "      <td>1</td>\n",
       "    </tr>\n",
       "    <tr>\n",
       "      <th>888</th>\n",
       "      <td>889</td>\n",
       "      <td>0</td>\n",
       "      <td>3</td>\n",
       "      <td>29.699118</td>\n",
       "      <td>1</td>\n",
       "      <td>2</td>\n",
       "      <td>23.45000</td>\n",
       "      <td>1</td>\n",
       "      <td>0</td>\n",
       "      <td>0</td>\n",
       "      <td>0</td>\n",
       "      <td>1</td>\n",
       "    </tr>\n",
       "    <tr>\n",
       "      <th>889</th>\n",
       "      <td>890</td>\n",
       "      <td>1</td>\n",
       "      <td>1</td>\n",
       "      <td>26.000000</td>\n",
       "      <td>0</td>\n",
       "      <td>0</td>\n",
       "      <td>30.00000</td>\n",
       "      <td>0</td>\n",
       "      <td>1</td>\n",
       "      <td>1</td>\n",
       "      <td>0</td>\n",
       "      <td>0</td>\n",
       "    </tr>\n",
       "    <tr>\n",
       "      <th>890</th>\n",
       "      <td>891</td>\n",
       "      <td>0</td>\n",
       "      <td>3</td>\n",
       "      <td>32.000000</td>\n",
       "      <td>0</td>\n",
       "      <td>0</td>\n",
       "      <td>7.75000</td>\n",
       "      <td>0</td>\n",
       "      <td>1</td>\n",
       "      <td>0</td>\n",
       "      <td>1</td>\n",
       "      <td>0</td>\n",
       "    </tr>\n",
       "  </tbody>\n",
       "</table>\n",
       "<p>889 rows × 12 columns</p>\n",
       "</div>"
      ],
      "text/plain": [
       "     PassengerId  Survived  Pclass        Age  SibSp  Parch      Fare  \\\n",
       "0              1         0       3  22.000000      1      0   7.25000   \n",
       "1              2         1       1  38.000000      1      0  56.37664   \n",
       "2              3         1       3  26.000000      0      0   7.92500   \n",
       "3              4         1       1  35.000000      1      0  53.10000   \n",
       "4              5         0       3  35.000000      0      0   8.05000   \n",
       "..           ...       ...     ...        ...    ...    ...       ...   \n",
       "886          887         0       2  27.000000      0      0  13.00000   \n",
       "887          888         1       1  19.000000      0      0  30.00000   \n",
       "888          889         0       3  29.699118      1      2  23.45000   \n",
       "889          890         1       1  26.000000      0      0  30.00000   \n",
       "890          891         0       3  32.000000      0      0   7.75000   \n",
       "\n",
       "     Sex_female  Sex_male  Embarked_C  Embarked_Q  Embarked_S  \n",
       "0             0         1           0           0           1  \n",
       "1             1         0           1           0           0  \n",
       "2             1         0           0           0           1  \n",
       "3             1         0           0           0           1  \n",
       "4             0         1           0           0           1  \n",
       "..          ...       ...         ...         ...         ...  \n",
       "886           0         1           0           0           1  \n",
       "887           1         0           0           0           1  \n",
       "888           1         0           0           0           1  \n",
       "889           0         1           1           0           0  \n",
       "890           0         1           0           1           0  \n",
       "\n",
       "[889 rows x 12 columns]"
      ]
     },
     "execution_count": 23,
     "metadata": {},
     "output_type": "execute_result"
    }
   ],
   "source": [
    "# Convertimos variables categóricas avariables indicadoras dummy\n",
    "df = pd.get_dummies(df)\n",
    "df"
   ]
  },
  {
   "cell_type": "markdown",
   "metadata": {},
   "source": [
    "Vemos como se han generado columnas para todas las posibles categorías de cada columna (sexo mujer, sexo hombre, embarcado en Q, S o C)."
   ]
  },
  {
   "cell_type": "markdown",
   "metadata": {},
   "source": [
    "Como último paso de la limpieza de datos; reordenaremos las columnas a nuestro gusto, dejando en la última columna a la variable clase (*Survived*)."
   ]
  },
  {
   "cell_type": "code",
   "execution_count": 24,
   "metadata": {},
   "outputs": [
    {
     "data": {
      "text/html": [
       "<div>\n",
       "<style scoped>\n",
       "    .dataframe tbody tr th:only-of-type {\n",
       "        vertical-align: middle;\n",
       "    }\n",
       "\n",
       "    .dataframe tbody tr th {\n",
       "        vertical-align: top;\n",
       "    }\n",
       "\n",
       "    .dataframe thead th {\n",
       "        text-align: right;\n",
       "    }\n",
       "</style>\n",
       "<table border=\"1\" class=\"dataframe\">\n",
       "  <thead>\n",
       "    <tr style=\"text-align: right;\">\n",
       "      <th></th>\n",
       "      <th>PassengerId</th>\n",
       "      <th>Pclass</th>\n",
       "      <th>Age</th>\n",
       "      <th>SibSp</th>\n",
       "      <th>Parch</th>\n",
       "      <th>Fare</th>\n",
       "      <th>Sex_male</th>\n",
       "      <th>Sex_female</th>\n",
       "      <th>Embarked_C</th>\n",
       "      <th>Embarked_Q</th>\n",
       "      <th>Embarked_S</th>\n",
       "      <th>Survived</th>\n",
       "    </tr>\n",
       "  </thead>\n",
       "  <tbody>\n",
       "    <tr>\n",
       "      <th>0</th>\n",
       "      <td>1</td>\n",
       "      <td>3</td>\n",
       "      <td>22.000000</td>\n",
       "      <td>1</td>\n",
       "      <td>0</td>\n",
       "      <td>7.25000</td>\n",
       "      <td>1</td>\n",
       "      <td>0</td>\n",
       "      <td>0</td>\n",
       "      <td>0</td>\n",
       "      <td>1</td>\n",
       "      <td>0</td>\n",
       "    </tr>\n",
       "    <tr>\n",
       "      <th>1</th>\n",
       "      <td>2</td>\n",
       "      <td>1</td>\n",
       "      <td>38.000000</td>\n",
       "      <td>1</td>\n",
       "      <td>0</td>\n",
       "      <td>56.37664</td>\n",
       "      <td>0</td>\n",
       "      <td>1</td>\n",
       "      <td>1</td>\n",
       "      <td>0</td>\n",
       "      <td>0</td>\n",
       "      <td>1</td>\n",
       "    </tr>\n",
       "    <tr>\n",
       "      <th>2</th>\n",
       "      <td>3</td>\n",
       "      <td>3</td>\n",
       "      <td>26.000000</td>\n",
       "      <td>0</td>\n",
       "      <td>0</td>\n",
       "      <td>7.92500</td>\n",
       "      <td>0</td>\n",
       "      <td>1</td>\n",
       "      <td>0</td>\n",
       "      <td>0</td>\n",
       "      <td>1</td>\n",
       "      <td>1</td>\n",
       "    </tr>\n",
       "    <tr>\n",
       "      <th>3</th>\n",
       "      <td>4</td>\n",
       "      <td>1</td>\n",
       "      <td>35.000000</td>\n",
       "      <td>1</td>\n",
       "      <td>0</td>\n",
       "      <td>53.10000</td>\n",
       "      <td>0</td>\n",
       "      <td>1</td>\n",
       "      <td>0</td>\n",
       "      <td>0</td>\n",
       "      <td>1</td>\n",
       "      <td>1</td>\n",
       "    </tr>\n",
       "    <tr>\n",
       "      <th>4</th>\n",
       "      <td>5</td>\n",
       "      <td>3</td>\n",
       "      <td>35.000000</td>\n",
       "      <td>0</td>\n",
       "      <td>0</td>\n",
       "      <td>8.05000</td>\n",
       "      <td>1</td>\n",
       "      <td>0</td>\n",
       "      <td>0</td>\n",
       "      <td>0</td>\n",
       "      <td>1</td>\n",
       "      <td>0</td>\n",
       "    </tr>\n",
       "    <tr>\n",
       "      <th>...</th>\n",
       "      <td>...</td>\n",
       "      <td>...</td>\n",
       "      <td>...</td>\n",
       "      <td>...</td>\n",
       "      <td>...</td>\n",
       "      <td>...</td>\n",
       "      <td>...</td>\n",
       "      <td>...</td>\n",
       "      <td>...</td>\n",
       "      <td>...</td>\n",
       "      <td>...</td>\n",
       "      <td>...</td>\n",
       "    </tr>\n",
       "    <tr>\n",
       "      <th>886</th>\n",
       "      <td>887</td>\n",
       "      <td>2</td>\n",
       "      <td>27.000000</td>\n",
       "      <td>0</td>\n",
       "      <td>0</td>\n",
       "      <td>13.00000</td>\n",
       "      <td>1</td>\n",
       "      <td>0</td>\n",
       "      <td>0</td>\n",
       "      <td>0</td>\n",
       "      <td>1</td>\n",
       "      <td>0</td>\n",
       "    </tr>\n",
       "    <tr>\n",
       "      <th>887</th>\n",
       "      <td>888</td>\n",
       "      <td>1</td>\n",
       "      <td>19.000000</td>\n",
       "      <td>0</td>\n",
       "      <td>0</td>\n",
       "      <td>30.00000</td>\n",
       "      <td>0</td>\n",
       "      <td>1</td>\n",
       "      <td>0</td>\n",
       "      <td>0</td>\n",
       "      <td>1</td>\n",
       "      <td>1</td>\n",
       "    </tr>\n",
       "    <tr>\n",
       "      <th>888</th>\n",
       "      <td>889</td>\n",
       "      <td>3</td>\n",
       "      <td>29.699118</td>\n",
       "      <td>1</td>\n",
       "      <td>2</td>\n",
       "      <td>23.45000</td>\n",
       "      <td>0</td>\n",
       "      <td>1</td>\n",
       "      <td>0</td>\n",
       "      <td>0</td>\n",
       "      <td>1</td>\n",
       "      <td>0</td>\n",
       "    </tr>\n",
       "    <tr>\n",
       "      <th>889</th>\n",
       "      <td>890</td>\n",
       "      <td>1</td>\n",
       "      <td>26.000000</td>\n",
       "      <td>0</td>\n",
       "      <td>0</td>\n",
       "      <td>30.00000</td>\n",
       "      <td>1</td>\n",
       "      <td>0</td>\n",
       "      <td>1</td>\n",
       "      <td>0</td>\n",
       "      <td>0</td>\n",
       "      <td>1</td>\n",
       "    </tr>\n",
       "    <tr>\n",
       "      <th>890</th>\n",
       "      <td>891</td>\n",
       "      <td>3</td>\n",
       "      <td>32.000000</td>\n",
       "      <td>0</td>\n",
       "      <td>0</td>\n",
       "      <td>7.75000</td>\n",
       "      <td>1</td>\n",
       "      <td>0</td>\n",
       "      <td>0</td>\n",
       "      <td>1</td>\n",
       "      <td>0</td>\n",
       "      <td>0</td>\n",
       "    </tr>\n",
       "  </tbody>\n",
       "</table>\n",
       "<p>889 rows × 12 columns</p>\n",
       "</div>"
      ],
      "text/plain": [
       "     PassengerId  Pclass        Age  SibSp  Parch      Fare  Sex_male  \\\n",
       "0              1       3  22.000000      1      0   7.25000         1   \n",
       "1              2       1  38.000000      1      0  56.37664         0   \n",
       "2              3       3  26.000000      0      0   7.92500         0   \n",
       "3              4       1  35.000000      1      0  53.10000         0   \n",
       "4              5       3  35.000000      0      0   8.05000         1   \n",
       "..           ...     ...        ...    ...    ...       ...       ...   \n",
       "886          887       2  27.000000      0      0  13.00000         1   \n",
       "887          888       1  19.000000      0      0  30.00000         0   \n",
       "888          889       3  29.699118      1      2  23.45000         0   \n",
       "889          890       1  26.000000      0      0  30.00000         1   \n",
       "890          891       3  32.000000      0      0   7.75000         1   \n",
       "\n",
       "     Sex_female  Embarked_C  Embarked_Q  Embarked_S  Survived  \n",
       "0             0           0           0           1         0  \n",
       "1             1           1           0           0         1  \n",
       "2             1           0           0           1         1  \n",
       "3             1           0           0           1         1  \n",
       "4             0           0           0           1         0  \n",
       "..          ...         ...         ...         ...       ...  \n",
       "886           0           0           0           1         0  \n",
       "887           1           0           0           1         1  \n",
       "888           1           0           0           1         0  \n",
       "889           0           1           0           0         1  \n",
       "890           0           0           1           0         0  \n",
       "\n",
       "[889 rows x 12 columns]"
      ]
     },
     "execution_count": 24,
     "metadata": {},
     "output_type": "execute_result"
    }
   ],
   "source": [
    "df = df[['PassengerId','Pclass','Age','SibSp','Parch','Fare','Sex_male','Sex_female','Embarked_C','Embarked_Q','Embarked_S','Survived']]\n",
    "df"
   ]
  },
  {
   "cell_type": "markdown",
   "metadata": {},
   "source": [
    "Guardamos el dataset obtenido en un archivo .csv."
   ]
  },
  {
   "cell_type": "code",
   "execution_count": 25,
   "metadata": {},
   "outputs": [],
   "source": [
    "df.to_csv(\"../data/titanic_out.csv\", index=False)"
   ]
  },
  {
   "cell_type": "markdown",
   "metadata": {},
   "source": [
    "# Análisis de los datos\n",
    "\n",
    "## Selección de datos a analizar\n",
    "\n",
    "En este apartado se seleccionarán los atributos más relevantes para la construcción del modelo. Mediante algunas pruebas se determinan cuáles de los atributos son innecesarios y cuáles son más influyentes en la capacidad predictiva. Entre los posibles beneficios que trae consigo este proceso se encuentran los siguinetes:\n",
    "\n",
    "* Reduce el tiempo de entrenamiento.\n",
    "* Aumenta la precisión en la predicción al contar con menos datos innecesarios (ruido).\n",
    "* Reduce la posibilidad del sobreentrenaiento ( _overfitting_) al contar con menos datos engañosos sobre los que tomar desiciones.\n",
    "\n",
    "Para realizar esta selección de predictores se utilizará el algoritmo llamado Eliminación Recursiva de Variables con _cross validation_ [RFECV](https://scikit-learn.org/stable/modules/generated/sklearn.feature_selection.RFECV.html#sklearn.feature_selection.RFECV). Este algoritmo se basa en la evaluación del conjunto de datos en un modelo predictivo, asignando un valor de importancia a cada atributo según su aportación a la predicción. Inicialmente realiza la evaluación de todos los atributos del _dataset_ y va disminuyendo la cantidad de atributos eliminando los menos importantes hasta que determina un valor óptimo de atributos que aportan una capacidad predictiva lo suficientemente buena al modelo. En esta variante para obtener la medida del rendimiento se utiliza la validación cruzada, y el modelo predictivo puede ser elegido arbitrariametne según convenga.  "
   ]
  },
  {
   "cell_type": "markdown",
   "metadata": {},
   "source": [
    "La primera tarea para implementar el algoritmo es separar la variable objetivo de las predictoras, y eliminar de las predictoras el campo \"PassengerID\", ya que no aporta infomración útil al modelo."
   ]
  },
  {
   "cell_type": "code",
   "execution_count": 26,
   "metadata": {},
   "outputs": [],
   "source": [
    "df_predictors = df.drop(['Survived','PassengerId'], axis=1)\n",
    "df_target = df['Survived']"
   ]
  },
  {
   "cell_type": "markdown",
   "metadata": {},
   "source": [
    "Luego es necesario crear la instancia del modelo predictivo que se utilizará para calcular el error ([_Random Forest_](https://scikit-learn.org/stable/modules/generated/sklearn.ensemble.RandomForestClassifier.html)), para posteriormente aplicar el algoritmo. Nótese que es necesario establecer algunos parámetros en la invocación de la función RFECV, donde además de especificar el modelo es necesario indicar los siguientes parámetros:\n",
    "\n",
    "* step: Número de atributos eliminados en cada iteración.\n",
    "* cv: Hace referencia al tipo de división de los _folds_, en este caso se establece una división estratificada de 10 _folds_.\n",
    "* scoring: Establece la métrica del rendimiento deseada para comprobar la calidad del modelo, en este caso se toma la exactitud (acurancy).\n",
    "* min_features_to_select: Determina la cantidad mínima de atributos.\n",
    "* n_jobs: Habilita el _multiprocessing_, este algoritmo puede ser computacionalmetne muy pesado y es conveniente utilizar una ayuda extra con varios procesadores. En este caso el dataset no es muy grande y tiene un número bajo de atributos, pero es igualmente interesante tener este factor en cuenta.\n",
    "\n"
   ]
  },
  {
   "cell_type": "code",
   "execution_count": 27,
   "metadata": {},
   "outputs": [],
   "source": [
    "model = RandomForestClassifier(random_state=101)\n",
    "rfecv = RFECV(estimator=model,\n",
    "              step=1, \n",
    "              cv=StratifiedKFold(10), \n",
    "              scoring='accuracy',\n",
    "              n_jobs=3)\n"
   ]
  },
  {
   "cell_type": "markdown",
   "metadata": {},
   "source": [
    "Una vez creada la base del algoritmo, se alimenta con las divisiones creadas anteriormente, y utilizando el atributo _n_features_ se puede obtener el número óptimo de atributos devuelto automáticamente por el algoritmo."
   ]
  },
  {
   "cell_type": "code",
   "execution_count": 29,
   "metadata": {},
   "outputs": [
    {
     "name": "stdout",
     "output_type": "stream",
     "text": [
      "Optimal number of features: 7\n"
     ]
    }
   ],
   "source": [
    "rfecv.fit(df_predictors, df_target)\n",
    "print('Optimal number of features: {}'.format(rfecv.n_features_))"
   ]
  },
  {
   "cell_type": "markdown",
   "metadata": {},
   "source": [
    "Como resultado se obtiene que el número óptimo de atributos es 7. Para obtener una visión más objetiva de este resultado se ofrece la siguiente g eráfican la que se muestra el valor de la exactitud para cada valor del número de atributos obtenido."
   ]
  },
  {
   "cell_type": "code",
   "execution_count": 30,
   "metadata": {},
   "outputs": [
    {
     "data": {
      "image/png": "[encoded data removed]",
      "text/plain": [
       "<Figure size 1152x648 with 1 Axes>"
      ]
     },
     "metadata": {
      "needs_background": "light"
     },
     "output_type": "display_data"
    }
   ],
   "source": [
    "plt.figure(figsize=(16, 9))\n",
    "plt.title('Recursive Feature Elimination with Cross-Validation', fontsize=18, fontweight='bold', pad=20)\n",
    "plt.xlabel('Number of features selected', fontsize=14, labelpad=20)\n",
    "plt.ylabel('Acurancy', fontsize=14, labelpad=20)\n",
    "plt.plot(range(1, len(rfecv.grid_scores_) + 1), rfecv.grid_scores_, color='#303F9F', linewidth=3)\n",
    "\n",
    "plt.show()"
   ]
  },
  {
   "cell_type": "markdown",
   "metadata": {},
   "source": [
    "A continuación se imprimen los atributos menos importantes y se crea un nuevo _dataframe_ con los 7 atributos obtenidos en el análisis anterior. La propiedad _support_ _ del objeto rfecv muestra en una lista de _booleanos_ cuáles de los indices de los atributos entra o no entre los 6 más importantes, con el apoyo de esta se realizan las tareas anteriormente descritas."
   ]
  },
  {
   "cell_type": "code",
   "execution_count": 31,
   "metadata": {},
   "outputs": [
    {
     "name": "stdout",
     "output_type": "stream",
     "text": [
      "['Embarked_C', 'Embarked_Q', 'Embarked_S']\n"
     ]
    },
    {
     "data": {
      "text/html": [
       "<div>\n",
       "<style scoped>\n",
       "    .dataframe tbody tr th:only-of-type {\n",
       "        vertical-align: middle;\n",
       "    }\n",
       "\n",
       "    .dataframe tbody tr th {\n",
       "        vertical-align: top;\n",
       "    }\n",
       "\n",
       "    .dataframe thead th {\n",
       "        text-align: right;\n",
       "    }\n",
       "</style>\n",
       "<table border=\"1\" class=\"dataframe\">\n",
       "  <thead>\n",
       "    <tr style=\"text-align: right;\">\n",
       "      <th></th>\n",
       "      <th>Pclass</th>\n",
       "      <th>Age</th>\n",
       "      <th>SibSp</th>\n",
       "      <th>Parch</th>\n",
       "      <th>Fare</th>\n",
       "      <th>Sex_male</th>\n",
       "      <th>Sex_female</th>\n",
       "    </tr>\n",
       "  </thead>\n",
       "  <tbody>\n",
       "    <tr>\n",
       "      <th>0</th>\n",
       "      <td>3</td>\n",
       "      <td>22.0</td>\n",
       "      <td>1</td>\n",
       "      <td>0</td>\n",
       "      <td>7.25000</td>\n",
       "      <td>1</td>\n",
       "      <td>0</td>\n",
       "    </tr>\n",
       "    <tr>\n",
       "      <th>1</th>\n",
       "      <td>1</td>\n",
       "      <td>38.0</td>\n",
       "      <td>1</td>\n",
       "      <td>0</td>\n",
       "      <td>56.37664</td>\n",
       "      <td>0</td>\n",
       "      <td>1</td>\n",
       "    </tr>\n",
       "    <tr>\n",
       "      <th>2</th>\n",
       "      <td>3</td>\n",
       "      <td>26.0</td>\n",
       "      <td>0</td>\n",
       "      <td>0</td>\n",
       "      <td>7.92500</td>\n",
       "      <td>0</td>\n",
       "      <td>1</td>\n",
       "    </tr>\n",
       "    <tr>\n",
       "      <th>3</th>\n",
       "      <td>1</td>\n",
       "      <td>35.0</td>\n",
       "      <td>1</td>\n",
       "      <td>0</td>\n",
       "      <td>53.10000</td>\n",
       "      <td>0</td>\n",
       "      <td>1</td>\n",
       "    </tr>\n",
       "    <tr>\n",
       "      <th>4</th>\n",
       "      <td>3</td>\n",
       "      <td>35.0</td>\n",
       "      <td>0</td>\n",
       "      <td>0</td>\n",
       "      <td>8.05000</td>\n",
       "      <td>1</td>\n",
       "      <td>0</td>\n",
       "    </tr>\n",
       "  </tbody>\n",
       "</table>\n",
       "</div>"
      ],
      "text/plain": [
       "   Pclass   Age  SibSp  Parch      Fare  Sex_male  Sex_female\n",
       "0       3  22.0      1      0   7.25000         1           0\n",
       "1       1  38.0      1      0  56.37664         0           1\n",
       "2       3  26.0      0      0   7.92500         0           1\n",
       "3       1  35.0      1      0  53.10000         0           1\n",
       "4       3  35.0      0      0   8.05000         1           0"
      ]
     },
     "execution_count": 31,
     "metadata": {},
     "output_type": "execute_result"
    }
   ],
   "source": [
    "print(list(df_predictors.columns[np.where(rfecv.support_ == False)[0]]))\n",
    "\n",
    "# Desechando los atributos menos importantes\n",
    "df_predictors.drop(df_predictors.columns[np.where(rfecv.support_ == False)[0]], axis=1, inplace=True)\n",
    "df_predictors.head()"
   ]
  },
  {
   "cell_type": "markdown",
   "metadata": {},
   "source": [
    "Para finalizar con este apartado es interesante conocer en que medida las variables seleccionadas son importantes para el modelo, por ello se muestra este valor de importancia obtenido de la propiedad _feature_importances_.\n",
    "\n",
    "Para facilitar la creación de la gráfica se crea un nuevo _dataframe_ con los nombres de las columnas y los valores de importancia de los atributos, también se ordenan ascendentemente para facilitar la comprensión de la misma."
   ]
  },
  {
   "cell_type": "code",
   "execution_count": 32,
   "metadata": {},
   "outputs": [
    {
     "data": {
      "image/png": "[encoded data removed]",
      "text/plain": [
       "<Figure size 1152x648 with 1 Axes>"
      ]
     },
     "metadata": {
      "needs_background": "light"
     },
     "output_type": "display_data"
    }
   ],
   "source": [
    "# Nuevo dataframe auxiliar para la visualización\n",
    "dset = pd.DataFrame()\n",
    "\n",
    "# Asignando los vlaores de imoprtancia y nombres de columnas\n",
    "dset['attr'] = df_predictors.columns\n",
    "dset['importance'] = rfecv.estimator_.feature_importances_\n",
    "\n",
    "# Ordenando por importancia\n",
    "dset = dset.sort_values(by='importance', ascending=False)\n",
    "\n",
    "\n",
    "plt.figure(figsize=(16, 9))\n",
    "plt.barh(y=dset['attr'], width=dset['importance'], color='#1976D4')\n",
    "plt.title('RFECV - Feature Importances', fontsize=20, fontweight='bold', pad=20)\n",
    "plt.xlabel('Importance', fontsize=14, labelpad=20)\n",
    "plt.show()"
   ]
  },
  {
   "cell_type": "markdown",
   "metadata": {},
   "source": [
    "## Comprobación de la normalidad y homogeneidad de la varianza\n",
    "\n",
    "### Normalidad\n",
    "\n",
    "Para comprobar si los datos tienen una distribución normal podemos utilizar el [*`estadístico de Anderson-Darling`*](https://support.minitab.com/es-mx/minitab/18/help-and-how-to/statistics/basic-statistics/supporting-topics/normality/the-anderson-darling-statistic/). Este estadístico mide qué tan bien siguen los datos una distribución específica (gaussiana en nuestro caso).\n",
    "\n",
    "Aplicando una prueba de contraste de hipótesis se puede comprobar la condición de normalidad de los datos. Las hipótesis serán las siguientes.\n",
    "\n",
    "$H_0$ : Los datos de la muestra sigue una distribución normal.\n",
    "\n",
    "$H_1$ : Los datos de la muestra no siguen una disribución normal.\n",
    "   \n",
    "Estableciendo el valor de significancia:\n",
    "\n",
    "$\\alpha$ en este caso será igual a los valores críticos (para cada nivel de significancia )que se obtienen como resultado del test _AD_.\n",
    "\n",
    "Si $p <= \\alpha $ : Se rechaza la $H_0$, por lo tanto no está distribuida normalmente\n",
    "\n",
    "Si $p > \\alpha $ : Se falla al rechazar $H_0$, por lo tanto si está distribuida normalmente \n",
    "\n",
    "En nuestro caso tenemos tres variables no categóricas sobre las que podemos testear la normalidad: *Age*, *SibSp* y *Fare*.\n",
    "\n",
    "Inicialmente podemos representar sus histogramas para tener una idea de si las distribuciones parecen normales o no, esto es, si se aproximan a una campana de gauss."
   ]
  },
  {
   "cell_type": "code",
   "execution_count": 68,
   "metadata": {
    "scrolled": false
   },
   "outputs": [
    {
     "data": {
      "image/png": "[encoded data removed]",
      "text/plain": [
       "<Figure size 1008x648 with 4 Axes>"
      ]
     },
     "metadata": {
      "needs_background": "light"
     },
     "output_type": "display_data"
    }
   ],
   "source": [
    "from numpy.random import randn\n",
    "\n",
    "# Distribuciones de las variables no categóricas\n",
    "fig, axs = plt.subplots(2,2, figsize=(14, 9))\n",
    "\n",
    "# Distribución normal de referencia\n",
    "axs[0,0].hist(randn(10000), 100)\n",
    "axs[0,0].set_title('Distribución normal')\n",
    "# Distribución de atributo Age\n",
    "axs[0,1].hist(df_predictors.Age)\n",
    "axs[0,1].set_title('Distribución de Age')\n",
    "# Distribución de atributo Fare\n",
    "axs[1,0].hist(df_predictors.Fare)\n",
    "axs[1,0].set_title('Distribución de Fare')\n",
    "# Distribución de atributo SibSp\n",
    "axs[1,1].hist(df_predictors.SibSp)\n",
    "axs[1,1].set_title('Distribución de SibSp')\n",
    "\n",
    "fig.tight_layout()"
   ]
  },
  {
   "cell_type": "markdown",
   "metadata": {},
   "source": [
    "De primera ya vemos que si comparamos con la distribución normal de referencia (primera figura), ninguna distribución parece acercarse a una distribución normal. *Age* parece acercarse algo más que el resto, pero aún así se aleja bastante de una normal.\n",
    "\n",
    "Comprobaremos ahora con el método Anderson-Darling si se pueden considerar normales."
   ]
  },
  {
   "cell_type": "code",
   "execution_count": 70,
   "metadata": {},
   "outputs": [
    {
     "name": "stdout",
     "output_type": "stream",
     "text": [
      "Comprobación de la normalidad de Age\n",
      "Statistic: 15.286\n",
      "15.000: 0.573, los datos no siguen una distribución normal\n",
      "10.000: 0.653, los datos no siguen una distribución normal\n",
      "5.000: 0.783, los datos no siguen una distribución normal\n",
      "2.500: 0.914, los datos no siguen una distribución normal\n",
      "1.000: 1.087, los datos no siguen una distribución normal\n"
     ]
    }
   ],
   "source": [
    "from scipy.stats import anderson\n",
    "\n",
    "# Comprobación para Age\n",
    "result = anderson(df_predictors.Age)\n",
    "print(\"Comprobación de la normalidad de Age\")\n",
    "print('Statistic: %.3f' % result.statistic)\n",
    "p = 0\n",
    "for i in range(len(result.critical_values)):\n",
    "    sl, cv = result.significance_level[i], result.critical_values[i]\n",
    "    if result.statistic < result.critical_values[i]:\n",
    "        print('%.3f: %.3f, los datos siguen una distribución normal' % (sl, cv))\n",
    "    else:\n",
    "        print('%.3f: %.3f, los datos no siguen una distribución normal' % (sl, cv))"
   ]
  },
  {
   "cell_type": "markdown",
   "metadata": {},
   "source": [
    "Obtenemos respuestas según lo estrictos que seamos, cuanto mas alto el nivel de significancia (1, 205, 5, 10, 15), más estrictos somos y es más dificil que la distribución se ajuste a una normal. En este caso, con ningún nivel de significancia obtenemos un resultado positivo.\n",
    "\n",
    "Comprobamos que pasa lo mismo para las otras dos variables y que ninguna sigue una distribución normal."
   ]
  },
  {
   "cell_type": "code",
   "execution_count": 35,
   "metadata": {},
   "outputs": [
    {
     "name": "stdout",
     "output_type": "stream",
     "text": [
      "Comprobación de la normalidad de Fare\n",
      "Statistic: 67.372\n",
      "15.000: 0.573, los datos no siguen una distribución normal\n",
      "10.000: 0.653, los datos no siguen una distribución normal\n",
      "5.000: 0.783, los datos no siguen una distribución normal\n",
      "2.500: 0.914, los datos no siguen una distribución normal\n",
      "1.000: 1.087, los datos no siguen una distribución normal\n",
      "\n",
      "Comprobación de la normalidad de SibSp\n",
      "Statistic: 146.788\n",
      "15.000: 0.573, los datos no siguen una distribución normal\n",
      "10.000: 0.653, los datos no siguen una distribución normal\n",
      "5.000: 0.783, los datos no siguen una distribución normal\n",
      "2.500: 0.914, los datos no siguen una distribución normal\n",
      "1.000: 1.087, los datos no siguen una distribución normal\n"
     ]
    }
   ],
   "source": [
    "# Comprobación para Fare\n",
    "result = anderson(df.Fare)\n",
    "print(\"Comprobación de la normalidad de Fare\")\n",
    "print('Statistic: %.3f' % result.statistic)\n",
    "p = 0\n",
    "for i in range(len(result.critical_values)):\n",
    "    sl, cv = result.significance_level[i], result.critical_values[i]\n",
    "    if result.statistic < result.critical_values[i]:\n",
    "        print('%.3f: %.3f, los datos siguen una distribución normal' % (sl, cv))\n",
    "    else:\n",
    "        print('%.3f: %.3f, los datos no siguen una distribución normal' % (sl, cv))\n",
    "        \n",
    "# Comprobación para SibSp\n",
    "result = anderson(df.SibSp)\n",
    "print(\"\\nComprobación de la normalidad de SibSp\")\n",
    "print('Statistic: %.3f' % result.statistic)\n",
    "p = 0\n",
    "for i in range(len(result.critical_values)):\n",
    "    sl, cv = result.significance_level[i], result.critical_values[i]\n",
    "    if result.statistic < result.critical_values[i]:\n",
    "        print('%.3f: %.3f, los datos siguen una distribución normal' % (sl, cv))\n",
    "    else:\n",
    "        print('%.3f: %.3f, los datos no siguen una distribución normal' % (sl, cv))"
   ]
  },
  {
   "cell_type": "markdown",
   "metadata": {},
   "source": [
    "Como ya habíamos predicho con las ilustraciones de las distribuciones, ninguna de ellas cumple con la condición para aceptar la Hipótesis nula $H_0$, con lo que ninguno presenta una distribución normal. Esto en general puede ser por diversas causas: Valores extremos (que ya habíamos eliminado), superposición de dos procesos de muestreo, insuficiente discriminación de datos, muestreo de una población ordenada, valores cerca de cero o con un límite natural o simplemente los datos siguen otra distribución.\n",
    "\n",
    "En el titanic realmente había mas de 2000 pasajeros y en nuestro dataset tenemos en torno a 900, por lo que no sabemos cómo se hizo realmente la toma de los datos y como afecta esto a las distribuciones.\n"
   ]
  },
  {
   "cell_type": "markdown",
   "metadata": {},
   "source": [
    "### Homogeneidad de la varianza\n",
    "\n",
    "Para comprobar la homgeneidad de la varianza utilizaremos el *test de levene*, pero podríamos usar otro entre las distintas opciones.\n",
    "\n",
    "El *test de Levene* es una prueba estadística que se usa para evaluar la igualdad entre las varianzas de dos o más grupos. En este caso lo usaremos para ver si la varianza de las variables predictoras respecto a la variable objetivo es la misma, a esto es a lo que se le llama homogeneidad de la varianza.\n",
    "\n",
    "De manera similar a la efectuada en la comprobación de la normalidad, se aplican pruebas de contraste de hipótesis, estableciendo como $H_0$ la hipótesis que determina que las varianzas son iguales. Es necesario destacar que se utilizará el valor de la mediana para determinar la centralidad ya que los datos no muestran una distribución normal.\n",
    "\n",
    "El valor de significancia $\\alpha$ en este caso se establece su valor más típico de $0,05$.\n"
   ]
  },
  {
   "cell_type": "markdown",
   "metadata": {},
   "source": [
    "Para realizar este test se tienen en cuenta los valores de las variables predictoras según su distribución en la variable objetivo. Entonces utilizando la función _levene()_ del paquete scipy.stats se aplica dicho test."
   ]
  },
  {
   "cell_type": "code",
   "execution_count": 81,
   "metadata": {},
   "outputs": [
    {
     "name": "stdout",
     "output_type": "stream",
     "text": [
      "Los datos de la variable Age no presentan Homogeneidad de las varianzas\n",
      "Los datos de la variable SibSp presentan Homogeneidad de las varianzas\n",
      "Los datos de la variable Fare no presentan Homogeneidad de las varianzas\n"
     ]
    }
   ],
   "source": [
    "from scipy.stats import levene\n",
    "\n",
    "age = df_predictors['Age']\n",
    "SibSp = df_predictors['SibSp']\n",
    "Fare = df_predictors['Fare']\n",
    "target = df_target\n",
    "\n",
    "p_age = levene(age[target==1], age[target==0], center='median').pvalue\n",
    "p_sibsp = levene(SibSp[target==1], SibSp[target==0], center='median').pvalue\n",
    "p_fare = levene(Fare[target==1], Fare[target==0], center='median').pvalue\n",
    "\n",
    "p_values = {'Age': p_age , 'SibSp': p_sibsp, 'Fare': p_fare}\n",
    "\n",
    "for i in p_values:\n",
    "    if p_values[i] < 0.05:               \n",
    "        print('Los datos de la variable %s no presentan Homogeneidad de las varianzas' % (i))\n",
    "    else:\n",
    "        print('Los datos de la variable %s presentan Homogeneidad de las varianzas' % (i))\n",
    "  \n",
    "    \n"
   ]
  },
  {
   "cell_type": "markdown",
   "metadata": {},
   "source": [
    "Como se aprecia en los resultados del análisis solo la variable \"SibSp\" presenta homogeneidad en las varianzas. En el caso de la variable \"Age\" presenta un p-value cercano al valor de referencia pero sigue siendo inferior, esto puede ser por el tratamiento que se le dió a los valores extremos o a los ausentes, recordando que esta variable tenía la peor completitud entre todas las predictoras. "
   ]
  },
  {
   "cell_type": "markdown",
   "metadata": {},
   "source": [
    "Habrá que tener en cuenta las conclusiones sacadas en este apartado a la hora de aplicar las diferentes pruebas estadísticas, ya que algunas de estas asumen la normalidad y la hocedasticidad en los conjuntos de datos."
   ]
  },
  {
   "cell_type": "markdown",
   "metadata": {},
   "source": [
    "## Pruebas estadísticas"
   ]
  },
  {
   "cell_type": "markdown",
   "metadata": {},
   "source": [
    "Descripción"
   ]
  },
  {
   "cell_type": "markdown",
   "metadata": {},
   "source": [
    "### Análisis de correlaciones\n",
    "\n",
    "En este apartado se comprueba la realción entre las diferentes variables predictoras y la variable objetivo, medido en el valor de la correlación. La manera más intuitiva de visualizar esta correlación es con un mapa de calor, en el que a partir de una matriz de correlaciones se muestran en colores los diferentes niveles de valores.\n",
    "\n",
    "Para crear este mapa se ha utilizado la función _heatmap_ del paquete _seaborn_. Se han concatenado los _dataframes_ de las variables predictoras y la objetivo para realizar el cálculo, destacando que el método elegido para realizar el mismo es el de \"Spearman\", variante no paramétrica utilizada cuando los datos no siguen una distribución normal. "
   ]
  },
  {
   "cell_type": "code",
   "execution_count": 93,
   "metadata": {},
   "outputs": [
    {
     "data": {
      "image/png": "[encoded data removed]",
      "text/plain": [
       "<Figure size 1152x1152 with 2 Axes>"
      ]
     },
     "metadata": {
      "needs_background": "light"
     },
     "output_type": "display_data"
    }
   ],
   "source": [
    "import seaborn as sns\n",
    "\n",
    "df_heatmap = pd.concat([df_predictors, df_target], axis=1)\n",
    "\n",
    "corr = df_heatmap.corr(method = 'spearman')\n",
    "\n",
    "plt.figure(figsize=(16,16))\n",
    "sns.heatmap(corr,linewidths=0.1, \n",
    "            square=True,  linecolor='white', annot=True)\n",
    "plt.show()"
   ]
  },
  {
   "cell_type": "markdown",
   "metadata": {},
   "source": [
    "Como resultado se obtiene que ninguna variable predictora muestra una fuerte correlación con otra variable predictora, lo que determina que no hay redundancia en los datos y cada una aporta infomrmación útil al modelo. También se puede apreciar que algunas variables presentan valores muy interesantes sobre la variable objetivo, como es el caso de *Pclass*, *Fare* o el sexo, pero esto realmente no dice si es estadísticamente significativo a la hora de tomar en cuenta los resultados. Para commprobarlo se realiza un test de correlaciones, en el que la hipótesis nula es que los datos no están correlacionados y el valor de significancia $\\alpha$ es el típico $0.05$.\n",
    "\n",
    "\n",
    "Para calcular los valores de p necesarios en el análisis se utiliza la función _spearmanr_ del paquete _scipy.stats_, y con la ayuda de las _list comprehensions_ se crean dos listas con los valores de los coeficientes de correlación y los _p-values_ para posteriormente compararlos con el valor de significancia."
   ]
  },
  {
   "cell_type": "code",
   "execution_count": 135,
   "metadata": {},
   "outputs": [
    {
     "name": "stdout",
     "output_type": "stream",
     "text": [
      "La correlación: -0.34  con valor p = 0.00 entre Pclass y la variable objetivo es estadísticamente significativa\n",
      "La correlación:  -0.04 con valor p = 0.20 entre Age y la variable objetivo NO es estadísticamente significativa\n",
      "La correlación: 0.09  con valor p = 0.01 entre SibSp y la variable objetivo es estadísticamente significativa\n",
      "La correlación: 0.14  con valor p = 0.00 entre Parch y la variable objetivo es estadísticamente significativa\n",
      "La correlación: 0.32  con valor p = 0.00 entre Fare y la variable objetivo es estadísticamente significativa\n",
      "La correlación: -0.54  con valor p = 0.00 entre Sex_male y la variable objetivo es estadísticamente significativa\n",
      "La correlación: 0.54  con valor p = 0.00 entre Sex_female y la variable objetivo es estadísticamente significativa\n"
     ]
    }
   ],
   "source": [
    "from scipy.stats import spearmanr\n",
    "\n",
    "col_names = df_predictors.columns.values\n",
    "p_values = [spearmanr(df_predictors[col_names[i]], df_target).pvalue for i in range(len(col_names))]\n",
    "corr_values = [spearmanr(df_predictors[col_names[i]], df_target).correlation for i in range(len(col_names))]\n",
    "\n",
    "\n",
    "for i in range(len(col_names)):\n",
    "    if p_values[i] < 0.05:\n",
    "        print('La correlación: %.2f  con valor p = %.2f entre %s y la variable objetivo es estadísticamente significativa' % (\n",
    "            corr_values[i], p_values[i], col_names[i]))\n",
    "    else:\n",
    "        print('La correlación:  %.2f con valor p = %.2f entre %s y la variable objetivo NO es estadísticamente significativa' % (\n",
    "            corr_values[i], p_values[i], col_names[i]))\n"
   ]
  },
  {
   "cell_type": "markdown",
   "metadata": {},
   "source": [
    "Como se puede observar en los resultados del análisis, la única variable que no muestra una significancia estadística en el cálculo de las correlaciones es la variable *Age*. "
   ]
  },
  {
   "cell_type": "code",
   "execution_count": null,
   "metadata": {},
   "outputs": [],
   "source": []
  },
  {
   "cell_type": "markdown",
   "metadata": {},
   "source": []
  },
  {
   "cell_type": "markdown",
   "metadata": {},
   "source": []
  },
  {
   "cell_type": "markdown",
   "metadata": {},
   "source": []
  },
  {
   "cell_type": "markdown",
   "metadata": {},
   "source": [
    "# Conclusiones"
   ]
  }
 ],
 "metadata": {
  "kernelspec": {
   "display_name": "Python 3",
   "language": "python",
   "name": "python3"
  },
  "language_info": {
   "codemirror_mode": {
    "name": "ipython",
    "version": 3
   },
   "file_extension": ".py",
   "mimetype": "text/x-python",
   "name": "python",
   "nbconvert_exporter": "python",
   "pygments_lexer": "ipython3",
   "version": "3.8.3"
  },
  "toc": {
   "base_numbering": 1,
   "nav_menu": {},
   "number_sections": true,
   "sideBar": true,
   "skip_h1_title": false,
   "title_cell": "Table of Contents",
   "title_sidebar": "Contents",
   "toc_cell": true,
   "toc_position": {},
   "toc_section_display": true,
   "toc_window_display": false
  }
 },
 "nbformat": 4,
 "nbformat_minor": 4
}
